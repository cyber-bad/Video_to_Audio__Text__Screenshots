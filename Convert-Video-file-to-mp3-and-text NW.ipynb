{
 "cells": [
  {
   "cell_type": "code",
   "execution_count": 2,
   "metadata": {},
   "outputs": [
    {
     "name": "stdout",
     "output_type": "stream",
     "text": [
      "subscribe to Sonic octaves Kids channel and press the bell icon to watch new cartoon videos the name of the story is clever fish oneday\n",
      "fisherman whats fishing to a river as usual through his net into the river and it just fat within their for fish together so that he could sell order fish in the market and\n",
      "some good morning after sometime fisherman and had some Russell and Basil in the next thinking that he must have got a lot of fish in the net he actually took out the net out of water\n",
      "pretend to his Jisme Kissa just one tiny little fish in that net grabbed hold of that fish but then suddenly the fish started talking to him a little fish\n",
      "the fisherman please I will I will I did not give any attention to the request of the fish\n",
      "but then again the tiny little fish said to the fisherman if you leave me I will all my friends about you\n",
      "so that when you come next time you have much more thought I was thinking if I let go one tiny little fish today\n",
      "I will get a lot of more fish because this tiny little fish will bring all his friends during believing the world of these tiny little fish fisherman let go this tiny little fish into the river again\n",
      "tiny little fish was really happy and its Ham away happily into the river never to come back for fishermen came next day expecting that there will be a lot of fish that this tiny little fish\n",
      "but the tiny little fish was very clever and because of his cleverness He saved his life from this fisherman so children moral of the story is you have to be really really clever\n",
      "save your life from such challenging moments\n"
     ]
    }
   ],
   "source": [
    "import os\n",
    "import speech_recognition as sr\n",
    "import soundfile as sf\n",
    "\n",
    "#Class for video to text\n",
    "class Converter:\n",
    "\n",
    "    file_name = \"liggi.mp4\"\n",
    "    path = \"\"\n",
    "    output = \"\"\n",
    "    # convert_to_audio will convert mp4 video file to 3gp and after that 3gp to wav file\n",
    "    # Lower size of file will give better performance\n",
    "    def convert_to_audio(self, path, file_name):\n",
    "        self.path = path # path to the video file\n",
    "        self.file_name = file_name # name of the video file\n",
    "        # convert mp4 video to 3gp video with 176x144 px using FFMPEG\n",
    "        os.system('ffmpeg -y -i '+self.path+'/'+self.file_name+' -r 20 -s 176x144 -vb 400k -acodec aac -strict experimental -ac 1 -ar 8000 -ab 24k '+self.path+'/vid.3gp')\n",
    "        # convert 3gp video file to wav file using FFMPEG\n",
    "        os.system('ffmpeg -i '+self.path+'/vid.3gp -b:a 192K '+self.path+self.output)\n",
    "\n",
    "    \n",
    "    # Extract text form audio file with 85% accuracy\n",
    "    def convert_audio_to_text(self):\n",
    "        # create object of Recognizer\n",
    "        r = sr.Recognizer()\n",
    "        # Get audio file\n",
    "        Audiofile = sr.AudioFile(self.path+self.output)\n",
    "        # create object of sound file to define duration of audio file in seconds\n",
    "        f = sf.SoundFile(self.path+self.output)\n",
    "        #define seconds in sound file\n",
    "        seconds = float(format(len(f) / f.samplerate))\n",
    "        audio = [] # list to store chunks of audios\n",
    "        i = 0.00\n",
    "\n",
    "        with Audiofile as source:\n",
    "            #Start = offset end = duration\n",
    "            while i <= seconds:\n",
    "                # add audio chunks to list\n",
    "                audio.append(r.record(source, duration = 10))\n",
    "                i+=20\n",
    "                \n",
    "        try:\n",
    "            #iterate through all elements \n",
    "            for aud in audio:\n",
    "                # using google recognizer extract all text from all  chunks  \"Required High internet connection\"\n",
    "                # printing result, you can store it in any variable and also create lyrics******\n",
    "                print(r.recognize_google(aud))\n",
    "\n",
    "        except Exception as e:\n",
    "            print(e)\n",
    "\n",
    "\n",
    "\n",
    "Convert_obj = Converter()\n",
    "Convert_obj.convert_to_audio(path=\"\",file_name=\"liggi.mp4\")\n",
    "Convert_obj.convert_audio_to_text()\n"
   ]
  },
  {
   "cell_type": "code",
   "execution_count": 18,
   "metadata": {},
   "outputs": [],
   "source": []
  },
  {
   "cell_type": "code",
   "execution_count": null,
   "metadata": {},
   "outputs": [],
   "source": []
  }
 ],
 "metadata": {
  "kernelspec": {
   "display_name": "Python 3",
   "language": "python",
   "name": "python3"
  },
  "language_info": {
   "codemirror_mode": {
    "name": "ipython",
    "version": 3
   },
   "file_extension": ".py",
   "mimetype": "text/x-python",
   "name": "python",
   "nbconvert_exporter": "python",
   "pygments_lexer": "ipython3",
   "version": "3.7.4"
  }
 },
 "nbformat": 4,
 "nbformat_minor": 2
}
