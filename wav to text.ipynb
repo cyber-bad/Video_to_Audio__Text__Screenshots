{
 "cells": [
  {
   "cell_type": "code",
   "execution_count": 5,
   "metadata": {},
   "outputs": [
    {
     "name": "stdout",
     "output_type": "stream",
     "text": [
      "subscribe to Sonic octaves Kids channel and press the bell icon to watch new cartoon videos the name of the story is clever fish one day a fisherman was fishing to a river as usual through his net into the river and it is fat within their for fish together so that he could sell order fish in the market and get some good morning that after sometime fisher man had some Russell and parcel in the next thinking that he must have got a lot of fish in the net he actually took out the net out of water but then to his dismay his or just one tiny little fish in that net grabbed hold of that fish but then suddenly the fish started talking to him a little fish said to the fisherman fishing please I will not give any attention to the request of the fish but then again the tiny little fish said to the fisherman about you when you come next time you have much more thought I was thinking if I let go one tiny little fish today tomorrow I will get alot of fish because these tiny little fish will bring all his friends during believing the world of these tiny little fish fishing man let go this tiny little fish into the river again this time little fish was really happy and its Ham away happily into the river never to come back for fishermen became next day expecting that there will be a lot of fish that this tiny little fish would bring the time fish was very clever and because of his cleverness He saved his life from this fishermen so children moral of the story is you have to be really really clever to save your life from such challenging moments\n"
     ]
    }
   ],
   "source": [
    "import speech_recognition as sr\n",
    "\n",
    "r = sr.Recognizer()\n",
    "\n",
    "har = sr.AudioFile('12.wav')\n",
    "with har as source:\n",
    "    audio = r.record(source)\n",
    "    \n",
    "vaal=r.recognize_google(audio)\n",
    "print(vaal,end='\\n')"
   ]
  },
  {
   "cell_type": "code",
   "execution_count": null,
   "metadata": {},
   "outputs": [],
   "source": []
  }
 ],
 "metadata": {
  "kernelspec": {
   "display_name": "Python 3",
   "language": "python",
   "name": "python3"
  },
  "language_info": {
   "codemirror_mode": {
    "name": "ipython",
    "version": 3
   },
   "file_extension": ".py",
   "mimetype": "text/x-python",
   "name": "python",
   "nbconvert_exporter": "python",
   "pygments_lexer": "ipython3",
   "version": "3.7.4"
  }
 },
 "nbformat": 4,
 "nbformat_minor": 2
}
